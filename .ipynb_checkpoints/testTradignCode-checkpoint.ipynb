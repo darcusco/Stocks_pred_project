{
 "cells": [
  {
   "cell_type": "code",
   "execution_count": 1,
   "metadata": {},
   "outputs": [],
   "source": [
    "#import pandas_profiling as pdp\n",
    "#pdp.ProfileReport(musk_df)"
   ]
  },
  {
   "cell_type": "code",
   "execution_count": 2,
   "metadata": {},
   "outputs": [],
   "source": [
    "import pandas as pd\n",
    "import re\n",
    "import numpy as np"
   ]
  },
  {
   "cell_type": "code",
   "execution_count": 3,
   "metadata": {},
   "outputs": [],
   "source": [
    "%matplotlib inline"
   ]
  },
  {
   "cell_type": "code",
   "execution_count": 4,
   "metadata": {},
   "outputs": [],
   "source": [
    "from sklearn.feature_extraction.text import CountVectorizer, TfidfVectorizer\n",
    "from sklearn.model_selection import train_test_split, cross_val_score\n",
    "from sklearn.naive_bayes import MultinomialNB\n",
    "from sklearn.linear_model import LogisticRegression\n",
    "from sklearn.metrics import accuracy_score, precision_score, recall_score"
   ]
  },
  {
   "cell_type": "code",
   "execution_count": 5,
   "metadata": {},
   "outputs": [],
   "source": [
    "import nltk\n",
    "from nltk.corpus import stopwords"
   ]
  },
  {
   "cell_type": "code",
   "execution_count": 6,
   "metadata": {},
   "outputs": [],
   "source": [
    "stop=stopwords.words('english')\n",
    "stop+=['q','-','p']"
   ]
  },
  {
   "cell_type": "code",
   "execution_count": 7,
   "metadata": {},
   "outputs": [],
   "source": [
    "pd.reset_option(\"display.max_rows\")"
   ]
  },
  {
   "cell_type": "code",
   "execution_count": 8,
   "metadata": {},
   "outputs": [],
   "source": [
    "def cleanTableNews(df):\n",
    "    \n",
    "    df.set_index(['date'], inplace=True)\n",
    "    tsla_news.sort_index(inplace=True)\n",
    "    df[\"text\"] = df[\"text\"].str.join(\"\")\n",
    "    df[\"text\"]= df[\"text\"].str.lower()\n",
    "    df[\"tokenized\"]=df['text'].str.replace(r\"[^a-z-]\",\" \",regex=True).str.split()\n",
    "    df[\"tokenized\"]=df['tokenized'].apply(lambda x: [item for item in x if item not in stop])\n",
    "    df['text']=df['tokenized'].str.join(' ')\n",
    "    return df"
   ]
  },
  {
   "cell_type": "code",
   "execution_count": 9,
   "metadata": {},
   "outputs": [],
   "source": [
    "tsla_news= pd.read_json('tslatagdataset.json')\n",
    "tsla_news=cleanTableNews(tsla_news)"
   ]
  },
  {
   "cell_type": "code",
   "execution_count": 10,
   "metadata": {},
   "outputs": [],
   "source": [
    "teslatag = pd.read_json ('allteslanews.json')\n",
    "\n",
    "teslatag= cleanTableNews(teslatag)"
   ]
  },
  {
   "cell_type": "code",
   "execution_count": 11,
   "metadata": {},
   "outputs": [],
   "source": [
    "musktag = pd.read_json ('musktagnews.json')\n",
    "\n",
    "musktag = cleanTableNews(musktag)"
   ]
  },
  {
   "cell_type": "code",
   "execution_count": null,
   "metadata": {},
   "outputs": [],
   "source": []
  },
  {
   "cell_type": "code",
   "execution_count": 12,
   "metadata": {},
   "outputs": [],
   "source": [
    "def cleanTableStock(tsla_stock):\n",
    "\n",
    "    tsla_stock.columns = map(str.lower, tsla_stock.columns)\n",
    "\n",
    "    tsla_stock.set_index(['date'], inplace=True)\n",
    "\n",
    "    tsla_stock.sort_index(inplace=True)\n",
    "\n",
    "    tsla_stock['price diff'] =tsla_stock['close']-tsla_stock['open']\n",
    "\n",
    "    tsla_stock['percentage'] = tsla_stock['price diff']/tsla_stock['open']*100\n",
    "\n",
    "    tsla_stock['close difference'] = 0\n",
    "    tsla_stock['close percentage'] = 0\n",
    "\n",
    "    for i in range(1, len(tsla_stock)):\n",
    "        tsla_stock.iloc[i, 8] = (tsla_stock.iloc[i, 3] - tsla_stock.iloc[i-1, 3])\n",
    "\n",
    "\n",
    "    for i in range(1, len(tsla_stock)):\n",
    "        tsla_stock.iloc[i, 9] = (tsla_stock.iloc[i, 8] / tsla_stock.iloc[i-1, 3])*100\n",
    "    return tsla_stock"
   ]
  },
  {
   "cell_type": "code",
   "execution_count": 13,
   "metadata": {},
   "outputs": [],
   "source": [
    "stock_df = pd.read_csv('TSLA.csv')\n",
    "\n",
    "stock_df = cleanTableStock(stock_df)"
   ]
  },
  {
   "cell_type": "code",
   "execution_count": null,
   "metadata": {},
   "outputs": [],
   "source": []
  },
  {
   "cell_type": "code",
   "execution_count": 14,
   "metadata": {},
   "outputs": [
    {
     "data": {
      "text/plain": [
       "<matplotlib.axes._subplots.AxesSubplot at 0x7f54833f4610>"
      ]
     },
     "execution_count": 14,
     "metadata": {},
     "output_type": "execute_result"
    },
    {
     "data": {
      "image/png": "[encoded data removed]",
      "text/plain": [
       "<Figure size 432x288 with 1 Axes>"
      ]
     },
     "metadata": {
      "needs_background": "light"
     },
     "output_type": "display_data"
    }
   ],
   "source": [
    "stock_df['close percentage'].sort_values().plot()"
   ]
  },
  {
   "cell_type": "code",
   "execution_count": null,
   "metadata": {},
   "outputs": [],
   "source": []
  },
  {
   "cell_type": "code",
   "execution_count": 15,
   "metadata": {},
   "outputs": [],
   "source": [
    "def classify3(row):\n",
    "    if row['close percentage'] > 1:\n",
    "        return 2\n",
    "    elif row['close percentage'] <-1:\n",
    "        return 0\n",
    "    else:\n",
    "        return 1\n",
    "    \n",
    "def classify2(row):\n",
    "    if row['close percentage'] > 0:\n",
    "        return 1\n",
    "    else:\n",
    "        return 0\n",
    "stock_df['class']= stock_df.apply(classify3, axis=1)"
   ]
  },
  {
   "cell_type": "code",
   "execution_count": 16,
   "metadata": {},
   "outputs": [
    {
     "data": {
      "text/plain": [
       "<matplotlib.axes._subplots.AxesSubplot at 0x7f5483446810>"
      ]
     },
     "execution_count": 16,
     "metadata": {},
     "output_type": "execute_result"
    },
    {
     "data": {
      "image/png": "[encoded data removed]",
      "text/plain": [
       "<Figure size 432x288 with 1 Axes>"
      ]
     },
     "metadata": {
      "needs_background": "light"
     },
     "output_type": "display_data"
    }
   ],
   "source": [
    "stock_df['class'].sort_values().plot()"
   ]
  },
  {
   "cell_type": "code",
   "execution_count": 17,
   "metadata": {
    "scrolled": true
   },
   "outputs": [
    {
     "data": {
      "text/html": [
       "<div>\n",
       "<style scoped>\n",
       "    .dataframe tbody tr th:only-of-type {\n",
       "        vertical-align: middle;\n",
       "    }\n",
       "\n",
       "    .dataframe tbody tr th {\n",
       "        vertical-align: top;\n",
       "    }\n",
       "\n",
       "    .dataframe thead th {\n",
       "        text-align: right;\n",
       "    }\n",
       "</style>\n",
       "<table border=\"1\" class=\"dataframe\">\n",
       "  <thead>\n",
       "    <tr style=\"text-align: right;\">\n",
       "      <th></th>\n",
       "      <th>open</th>\n",
       "      <th>high</th>\n",
       "      <th>low</th>\n",
       "      <th>close</th>\n",
       "      <th>adj close</th>\n",
       "      <th>volume</th>\n",
       "      <th>price diff</th>\n",
       "      <th>percentage</th>\n",
       "      <th>close difference</th>\n",
       "      <th>close percentage</th>\n",
       "      <th>class</th>\n",
       "    </tr>\n",
       "    <tr>\n",
       "      <th>date</th>\n",
       "      <th></th>\n",
       "      <th></th>\n",
       "      <th></th>\n",
       "      <th></th>\n",
       "      <th></th>\n",
       "      <th></th>\n",
       "      <th></th>\n",
       "      <th></th>\n",
       "      <th></th>\n",
       "      <th></th>\n",
       "      <th></th>\n",
       "    </tr>\n",
       "  </thead>\n",
       "  <tbody>\n",
       "    <tr>\n",
       "      <th>2015-05-01</th>\n",
       "      <td>229.940002</td>\n",
       "      <td>231.770004</td>\n",
       "      <td>220.410004</td>\n",
       "      <td>226.029999</td>\n",
       "      <td>226.029999</td>\n",
       "      <td>5281700</td>\n",
       "      <td>-3.910003</td>\n",
       "      <td>-1.700445</td>\n",
       "      <td>0.000000</td>\n",
       "      <td>0.000000</td>\n",
       "      <td>1</td>\n",
       "    </tr>\n",
       "    <tr>\n",
       "      <th>2015-05-04</th>\n",
       "      <td>228.179993</td>\n",
       "      <td>234.729996</td>\n",
       "      <td>227.110001</td>\n",
       "      <td>230.509995</td>\n",
       "      <td>230.509995</td>\n",
       "      <td>4434600</td>\n",
       "      <td>2.330002</td>\n",
       "      <td>1.021125</td>\n",
       "      <td>4.479996</td>\n",
       "      <td>1.982036</td>\n",
       "      <td>2</td>\n",
       "    </tr>\n",
       "    <tr>\n",
       "      <th>2015-05-05</th>\n",
       "      <td>237.759995</td>\n",
       "      <td>239.500000</td>\n",
       "      <td>229.130005</td>\n",
       "      <td>232.949997</td>\n",
       "      <td>232.949997</td>\n",
       "      <td>5796900</td>\n",
       "      <td>-4.809998</td>\n",
       "      <td>-2.023048</td>\n",
       "      <td>2.440002</td>\n",
       "      <td>1.058523</td>\n",
       "      <td>2</td>\n",
       "    </tr>\n",
       "    <tr>\n",
       "      <th>2015-05-06</th>\n",
       "      <td>234.100006</td>\n",
       "      <td>234.470001</td>\n",
       "      <td>228.199997</td>\n",
       "      <td>230.429993</td>\n",
       "      <td>230.429993</td>\n",
       "      <td>5270900</td>\n",
       "      <td>-3.670013</td>\n",
       "      <td>-1.567712</td>\n",
       "      <td>-2.520004</td>\n",
       "      <td>-1.081779</td>\n",
       "      <td>0</td>\n",
       "    </tr>\n",
       "    <tr>\n",
       "      <th>2015-05-07</th>\n",
       "      <td>221.000000</td>\n",
       "      <td>237.479996</td>\n",
       "      <td>220.250000</td>\n",
       "      <td>236.800003</td>\n",
       "      <td>236.800003</td>\n",
       "      <td>9455900</td>\n",
       "      <td>15.800003</td>\n",
       "      <td>7.149323</td>\n",
       "      <td>6.370010</td>\n",
       "      <td>2.764401</td>\n",
       "      <td>2</td>\n",
       "    </tr>\n",
       "    <tr>\n",
       "      <th>...</th>\n",
       "      <td>...</td>\n",
       "      <td>...</td>\n",
       "      <td>...</td>\n",
       "      <td>...</td>\n",
       "      <td>...</td>\n",
       "      <td>...</td>\n",
       "      <td>...</td>\n",
       "      <td>...</td>\n",
       "      <td>...</td>\n",
       "      <td>...</td>\n",
       "      <td>...</td>\n",
       "    </tr>\n",
       "    <tr>\n",
       "      <th>2020-02-03</th>\n",
       "      <td>673.690002</td>\n",
       "      <td>786.140015</td>\n",
       "      <td>673.520020</td>\n",
       "      <td>780.000000</td>\n",
       "      <td>780.000000</td>\n",
       "      <td>47233500</td>\n",
       "      <td>106.309998</td>\n",
       "      <td>15.780255</td>\n",
       "      <td>129.429993</td>\n",
       "      <td>19.894860</td>\n",
       "      <td>2</td>\n",
       "    </tr>\n",
       "    <tr>\n",
       "      <th>2020-02-04</th>\n",
       "      <td>882.960022</td>\n",
       "      <td>968.989990</td>\n",
       "      <td>833.880005</td>\n",
       "      <td>887.059998</td>\n",
       "      <td>887.059998</td>\n",
       "      <td>60938800</td>\n",
       "      <td>4.099976</td>\n",
       "      <td>0.464344</td>\n",
       "      <td>107.059998</td>\n",
       "      <td>13.725641</td>\n",
       "      <td>2</td>\n",
       "    </tr>\n",
       "    <tr>\n",
       "      <th>2020-02-05</th>\n",
       "      <td>823.260010</td>\n",
       "      <td>845.979980</td>\n",
       "      <td>704.109985</td>\n",
       "      <td>734.700012</td>\n",
       "      <td>734.700012</td>\n",
       "      <td>48423800</td>\n",
       "      <td>-88.559998</td>\n",
       "      <td>-10.757233</td>\n",
       "      <td>-152.359986</td>\n",
       "      <td>-17.175838</td>\n",
       "      <td>0</td>\n",
       "    </tr>\n",
       "    <tr>\n",
       "      <th>2020-02-06</th>\n",
       "      <td>699.919983</td>\n",
       "      <td>795.830017</td>\n",
       "      <td>687.000000</td>\n",
       "      <td>748.960022</td>\n",
       "      <td>748.960022</td>\n",
       "      <td>39880800</td>\n",
       "      <td>49.040039</td>\n",
       "      <td>7.006521</td>\n",
       "      <td>14.260010</td>\n",
       "      <td>1.940930</td>\n",
       "      <td>2</td>\n",
       "    </tr>\n",
       "    <tr>\n",
       "      <th>2020-02-07</th>\n",
       "      <td>730.549988</td>\n",
       "      <td>769.750000</td>\n",
       "      <td>730.000000</td>\n",
       "      <td>748.070007</td>\n",
       "      <td>748.070007</td>\n",
       "      <td>17041300</td>\n",
       "      <td>17.520019</td>\n",
       "      <td>2.398196</td>\n",
       "      <td>-0.890015</td>\n",
       "      <td>-0.118833</td>\n",
       "      <td>1</td>\n",
       "    </tr>\n",
       "  </tbody>\n",
       "</table>\n",
       "<p>1202 rows × 11 columns</p>\n",
       "</div>"
      ],
      "text/plain": [
       "                  open        high         low       close   adj close  \\\n",
       "date                                                                     \n",
       "2015-05-01  229.940002  231.770004  220.410004  226.029999  226.029999   \n",
       "2015-05-04  228.179993  234.729996  227.110001  230.509995  230.509995   \n",
       "2015-05-05  237.759995  239.500000  229.130005  232.949997  232.949997   \n",
       "2015-05-06  234.100006  234.470001  228.199997  230.429993  230.429993   \n",
       "2015-05-07  221.000000  237.479996  220.250000  236.800003  236.800003   \n",
       "...                ...         ...         ...         ...         ...   \n",
       "2020-02-03  673.690002  786.140015  673.520020  780.000000  780.000000   \n",
       "2020-02-04  882.960022  968.989990  833.880005  887.059998  887.059998   \n",
       "2020-02-05  823.260010  845.979980  704.109985  734.700012  734.700012   \n",
       "2020-02-06  699.919983  795.830017  687.000000  748.960022  748.960022   \n",
       "2020-02-07  730.549988  769.750000  730.000000  748.070007  748.070007   \n",
       "\n",
       "              volume  price diff  percentage  close difference  \\\n",
       "date                                                             \n",
       "2015-05-01   5281700   -3.910003   -1.700445          0.000000   \n",
       "2015-05-04   4434600    2.330002    1.021125          4.479996   \n",
       "2015-05-05   5796900   -4.809998   -2.023048          2.440002   \n",
       "2015-05-06   5270900   -3.670013   -1.567712         -2.520004   \n",
       "2015-05-07   9455900   15.800003    7.149323          6.370010   \n",
       "...              ...         ...         ...               ...   \n",
       "2020-02-03  47233500  106.309998   15.780255        129.429993   \n",
       "2020-02-04  60938800    4.099976    0.464344        107.059998   \n",
       "2020-02-05  48423800  -88.559998  -10.757233       -152.359986   \n",
       "2020-02-06  39880800   49.040039    7.006521         14.260010   \n",
       "2020-02-07  17041300   17.520019    2.398196         -0.890015   \n",
       "\n",
       "            close percentage  class  \n",
       "date                                 \n",
       "2015-05-01          0.000000      1  \n",
       "2015-05-04          1.982036      2  \n",
       "2015-05-05          1.058523      2  \n",
       "2015-05-06         -1.081779      0  \n",
       "2015-05-07          2.764401      2  \n",
       "...                      ...    ...  \n",
       "2020-02-03         19.894860      2  \n",
       "2020-02-04         13.725641      2  \n",
       "2020-02-05        -17.175838      0  \n",
       "2020-02-06          1.940930      2  \n",
       "2020-02-07         -0.118833      1  \n",
       "\n",
       "[1202 rows x 11 columns]"
      ]
     },
     "execution_count": 17,
     "metadata": {},
     "output_type": "execute_result"
    }
   ],
   "source": [
    "stock_df"
   ]
  },
  {
   "cell_type": "code",
   "execution_count": null,
   "metadata": {},
   "outputs": [],
   "source": []
  },
  {
   "cell_type": "code",
   "execution_count": null,
   "metadata": {},
   "outputs": [],
   "source": []
  },
  {
   "cell_type": "code",
   "execution_count": 18,
   "metadata": {
    "scrolled": true
   },
   "outputs": [],
   "source": [
    "def merge(df_data,df_stock):\n",
    "    tsla_mer = df_data.merge(df_stock['class'], left_index=True, right_index=True, how='inner')\n",
    "    return tsla_mer"
   ]
  },
  {
   "cell_type": "code",
   "execution_count": 19,
   "metadata": {},
   "outputs": [],
   "source": [
    "tsla_merged= merge(tsla_news,stock_df)"
   ]
  },
  {
   "cell_type": "code",
   "execution_count": 20,
   "metadata": {},
   "outputs": [
    {
     "data": {
      "text/html": [
       "<div>\n",
       "<style scoped>\n",
       "    .dataframe tbody tr th:only-of-type {\n",
       "        vertical-align: middle;\n",
       "    }\n",
       "\n",
       "    .dataframe tbody tr th {\n",
       "        vertical-align: top;\n",
       "    }\n",
       "\n",
       "    .dataframe thead th {\n",
       "        text-align: right;\n",
       "    }\n",
       "</style>\n",
       "<table border=\"1\" class=\"dataframe\">\n",
       "  <thead>\n",
       "    <tr style=\"text-align: right;\">\n",
       "      <th></th>\n",
       "      <th>headline</th>\n",
       "      <th>tag</th>\n",
       "      <th>author</th>\n",
       "      <th>text</th>\n",
       "      <th>tokenized</th>\n",
       "      <th>class</th>\n",
       "    </tr>\n",
       "    <tr>\n",
       "      <th>date</th>\n",
       "      <th></th>\n",
       "      <th></th>\n",
       "      <th></th>\n",
       "      <th></th>\n",
       "      <th></th>\n",
       "      <th></th>\n",
       "    </tr>\n",
       "  </thead>\n",
       "  <tbody>\n",
       "    <tr>\n",
       "      <th>2016-10-19</th>\n",
       "      <td>Tesla to discuss record-breaking quarter on up...</td>\n",
       "      <td>Investor's Corner</td>\n",
       "      <td>Carolyn F</td>\n",
       "      <td>tesla motors inc third-quarter earnings call n...</td>\n",
       "      <td>[tesla, motors, inc, third-quarter, earnings, ...</td>\n",
       "      <td>2</td>\n",
       "    </tr>\n",
       "    <tr>\n",
       "      <th>2017-01-03</th>\n",
       "      <td>Tesla misses Q4 deliveries due to “short term ...</td>\n",
       "      <td>Investor's Corner</td>\n",
       "      <td>Marco Papa</td>\n",
       "      <td>tesla reported production deliveries closing b...</td>\n",
       "      <td>[tesla, reported, production, deliveries, clos...</td>\n",
       "      <td>2</td>\n",
       "    </tr>\n",
       "    <tr>\n",
       "      <th>2017-04-17</th>\n",
       "      <td>Tesla Q1 2017 financial results and Q&amp;A call w...</td>\n",
       "      <td>Investor's Corner</td>\n",
       "      <td>Kyle</td>\n",
       "      <td>tesla first quarter financial results conferen...</td>\n",
       "      <td>[tesla, first, quarter, financial, results, co...</td>\n",
       "      <td>1</td>\n",
       "    </tr>\n",
       "    <tr>\n",
       "      <th>2017-04-19</th>\n",
       "      <td>News of Tesla Semi leads analyst to downgrade ...</td>\n",
       "      <td>Investor's Corner</td>\n",
       "      <td>Kyle</td>\n",
       "      <td>elon musk tweet tesla semi revealed september ...</td>\n",
       "      <td>[elon, musk, tweet, tesla, semi, revealed, sep...</td>\n",
       "      <td>2</td>\n",
       "    </tr>\n",
       "    <tr>\n",
       "      <th>2017-04-21</th>\n",
       "      <td>Elon Musk closing in on $1.4 billion ‘bonus’ f...</td>\n",
       "      <td>Investor's Corner</td>\n",
       "      <td>Steve Hanley</td>\n",
       "      <td>tesla entered agreement ceo elon musk specifie...</td>\n",
       "      <td>[tesla, entered, agreement, ceo, elon, musk, s...</td>\n",
       "      <td>2</td>\n",
       "    </tr>\n",
       "    <tr>\n",
       "      <th>...</th>\n",
       "      <td>...</td>\n",
       "      <td>...</td>\n",
       "      <td>...</td>\n",
       "      <td>...</td>\n",
       "      <td>...</td>\n",
       "      <td>...</td>\n",
       "    </tr>\n",
       "    <tr>\n",
       "      <th>2020-02-04</th>\n",
       "      <td>Tesla's biggest bull stands firm on TSLA, gets...</td>\n",
       "      <td>Investor's Corner</td>\n",
       "      <td>Simon Alvarez</td>\n",
       "      <td>one could ever accuse ark invest ceo cathie wo...</td>\n",
       "      <td>[one, could, ever, accuse, ark, invest, ceo, c...</td>\n",
       "      <td>2</td>\n",
       "    </tr>\n",
       "    <tr>\n",
       "      <th>2020-02-04</th>\n",
       "      <td>Elon Musk unlocks 2nd mega-bonus milestone aft...</td>\n",
       "      <td>Investor's Corner</td>\n",
       "      <td>Nicole Arce</td>\n",
       "      <td>tesla stock nasdaq tsla rose yet new heights f...</td>\n",
       "      <td>[tesla, stock, nasdaq, tsla, rose, yet, new, h...</td>\n",
       "      <td>2</td>\n",
       "    </tr>\n",
       "    <tr>\n",
       "      <th>2020-02-04</th>\n",
       "      <td>Ron Baron has $1B in Tesla stock and says it’s...</td>\n",
       "      <td>Investor's Corner</td>\n",
       "      <td>Joey Klender</td>\n",
       "      <td>tesla nasdaq tsla could hit trillion revenue a...</td>\n",
       "      <td>[tesla, nasdaq, tsla, could, hit, trillion, re...</td>\n",
       "      <td>2</td>\n",
       "    </tr>\n",
       "    <tr>\n",
       "      <th>2020-02-05</th>\n",
       "      <td>Ex-Tesla short-turned-bull bets against TSLA a...</td>\n",
       "      <td>Investor's Corner</td>\n",
       "      <td>Joey Klender</td>\n",
       "      <td>famed short-seller andrew left shorting tesla ...</td>\n",
       "      <td>[famed, short-seller, andrew, left, shorting, ...</td>\n",
       "      <td>0</td>\n",
       "    </tr>\n",
       "    <tr>\n",
       "      <th>2020-02-06</th>\n",
       "      <td>Jim Cramer says Tesla’s dip was expected, but ...</td>\n",
       "      <td>Investor's Corner</td>\n",
       "      <td>Joey Klender</td>\n",
       "      <td>tesla nasdaq tsla experienced dip wednesday dr...</td>\n",
       "      <td>[tesla, nasdaq, tsla, experienced, dip, wednes...</td>\n",
       "      <td>2</td>\n",
       "    </tr>\n",
       "  </tbody>\n",
       "</table>\n",
       "<p>527 rows × 6 columns</p>\n",
       "</div>"
      ],
      "text/plain": [
       "                                                     headline  \\\n",
       "date                                                            \n",
       "2016-10-19  Tesla to discuss record-breaking quarter on up...   \n",
       "2017-01-03  Tesla misses Q4 deliveries due to “short term ...   \n",
       "2017-04-17  Tesla Q1 2017 financial results and Q&A call w...   \n",
       "2017-04-19  News of Tesla Semi leads analyst to downgrade ...   \n",
       "2017-04-21  Elon Musk closing in on $1.4 billion ‘bonus’ f...   \n",
       "...                                                       ...   \n",
       "2020-02-04  Tesla's biggest bull stands firm on TSLA, gets...   \n",
       "2020-02-04  Elon Musk unlocks 2nd mega-bonus milestone aft...   \n",
       "2020-02-04  Ron Baron has $1B in Tesla stock and says it’s...   \n",
       "2020-02-05  Ex-Tesla short-turned-bull bets against TSLA a...   \n",
       "2020-02-06  Jim Cramer says Tesla’s dip was expected, but ...   \n",
       "\n",
       "                          tag         author  \\\n",
       "date                                           \n",
       "2016-10-19  Investor's Corner      Carolyn F   \n",
       "2017-01-03  Investor's Corner     Marco Papa   \n",
       "2017-04-17  Investor's Corner           Kyle   \n",
       "2017-04-19  Investor's Corner           Kyle   \n",
       "2017-04-21  Investor's Corner   Steve Hanley   \n",
       "...                       ...            ...   \n",
       "2020-02-04  Investor's Corner  Simon Alvarez   \n",
       "2020-02-04  Investor's Corner    Nicole Arce   \n",
       "2020-02-04  Investor's Corner   Joey Klender   \n",
       "2020-02-05  Investor's Corner   Joey Klender   \n",
       "2020-02-06  Investor's Corner   Joey Klender   \n",
       "\n",
       "                                                         text  \\\n",
       "date                                                            \n",
       "2016-10-19  tesla motors inc third-quarter earnings call n...   \n",
       "2017-01-03  tesla reported production deliveries closing b...   \n",
       "2017-04-17  tesla first quarter financial results conferen...   \n",
       "2017-04-19  elon musk tweet tesla semi revealed september ...   \n",
       "2017-04-21  tesla entered agreement ceo elon musk specifie...   \n",
       "...                                                       ...   \n",
       "2020-02-04  one could ever accuse ark invest ceo cathie wo...   \n",
       "2020-02-04  tesla stock nasdaq tsla rose yet new heights f...   \n",
       "2020-02-04  tesla nasdaq tsla could hit trillion revenue a...   \n",
       "2020-02-05  famed short-seller andrew left shorting tesla ...   \n",
       "2020-02-06  tesla nasdaq tsla experienced dip wednesday dr...   \n",
       "\n",
       "                                                    tokenized  class  \n",
       "date                                                                  \n",
       "2016-10-19  [tesla, motors, inc, third-quarter, earnings, ...      2  \n",
       "2017-01-03  [tesla, reported, production, deliveries, clos...      2  \n",
       "2017-04-17  [tesla, first, quarter, financial, results, co...      1  \n",
       "2017-04-19  [elon, musk, tweet, tesla, semi, revealed, sep...      2  \n",
       "2017-04-21  [tesla, entered, agreement, ceo, elon, musk, s...      2  \n",
       "...                                                       ...    ...  \n",
       "2020-02-04  [one, could, ever, accuse, ark, invest, ceo, c...      2  \n",
       "2020-02-04  [tesla, stock, nasdaq, tsla, rose, yet, new, h...      2  \n",
       "2020-02-04  [tesla, nasdaq, tsla, could, hit, trillion, re...      2  \n",
       "2020-02-05  [famed, short-seller, andrew, left, shorting, ...      0  \n",
       "2020-02-06  [tesla, nasdaq, tsla, experienced, dip, wednes...      2  \n",
       "\n",
       "[527 rows x 6 columns]"
      ]
     },
     "execution_count": 20,
     "metadata": {},
     "output_type": "execute_result"
    }
   ],
   "source": [
    "tsla_merged"
   ]
  },
  {
   "cell_type": "code",
   "execution_count": 21,
   "metadata": {},
   "outputs": [],
   "source": [
    "modeltext = tsla_merged[\"text\"].tolist()\n",
    "labels = tsla_merged[\"class\"].tolist()"
   ]
  },
  {
   "cell_type": "code",
   "execution_count": 45,
   "metadata": {},
   "outputs": [],
   "source": [
    "x_train, x_test, y_train, y_test = train_test_split(modeltext, labels, test_size=0.2)"
   ]
  },
  {
   "cell_type": "code",
   "execution_count": 46,
   "metadata": {},
   "outputs": [],
   "source": [
    "#vect=CountVectorizer()\n",
    "vect= TfidfVectorizer()\n",
    "x_train_BoW = vect.fit_transform(x_train)\n",
    "x_test_BoW = vect.transform(x_test)\n",
    "#modeltext = vect.transform(modeltext)\n",
    "#labels = vect.transform(labels)"
   ]
  },
  {
   "cell_type": "code",
   "execution_count": 47,
   "metadata": {},
   "outputs": [],
   "source": [
    "clf = LogisticRegression(C=15.0, solver='newton-cg',multi_class='multinomial')\n",
    "#clf = MultinomialNB()\n",
    "clf.fit(x_train_BoW, y_train)\n",
    "y_predicted_counts = clf.predict(x_test_BoW)"
   ]
  },
  {
   "cell_type": "code",
   "execution_count": 48,
   "metadata": {},
   "outputs": [
    {
     "data": {
      "text/plain": [
       "array([0, 2, 2, 2, 2, 2, 2, 0, 1, 2, 2, 1, 0, 0, 2, 1, 2, 2, 2, 2, 2, 0,\n",
       "       2, 2, 2, 2, 2, 1, 2, 2, 2, 2, 2, 2, 1, 2, 2, 1, 2, 2, 1, 1, 2, 2,\n",
       "       0, 2, 1, 2, 2, 0, 2, 2, 2, 2, 2, 2, 2, 2, 2, 2, 2, 2, 1, 2, 2, 1,\n",
       "       1, 1, 2, 2, 1, 1, 0, 2, 2, 1, 0, 0, 2, 1, 2, 0, 2, 2, 1, 2, 0, 1,\n",
       "       2, 2, 2, 0, 0, 1, 2, 0, 1, 0, 1, 1, 2, 2, 0, 2, 1, 0])"
      ]
     },
     "execution_count": 48,
     "metadata": {},
     "output_type": "execute_result"
    }
   ],
   "source": [
    "y_predicted_counts"
   ]
  },
  {
   "cell_type": "code",
   "execution_count": 49,
   "metadata": {},
   "outputs": [
    {
     "name": "stdout",
     "output_type": "stream",
     "text": [
      "accuracy = 0.387\n"
     ]
    }
   ],
   "source": [
    "accuracy = accuracy_score(y_test, y_predicted_counts)\n",
    "print(\"accuracy = %.3f\" % (accuracy))"
   ]
  },
  {
   "cell_type": "code",
   "execution_count": null,
   "metadata": {},
   "outputs": [],
   "source": []
  },
  {
   "cell_type": "code",
   "execution_count": 51,
   "metadata": {},
   "outputs": [
    {
     "data": {
      "text/plain": [
       "array([[ 4,  4, 17],\n",
       "       [ 9,  9, 19],\n",
       "       [ 5, 11, 28]])"
      ]
     },
     "execution_count": 51,
     "metadata": {},
     "output_type": "execute_result"
    }
   ],
   "source": [
    "from sklearn.metrics import confusion_matrix\n",
    "confusion_matrix(y_test,y_predicted_counts)"
   ]
  },
  {
   "cell_type": "code",
   "execution_count": 52,
   "metadata": {},
   "outputs": [
    {
     "data": {
      "image/png": "[encoded data removed]",
      "text/plain": [
       "<Figure size 432x432 with 1 Axes>"
      ]
     },
     "metadata": {
      "needs_background": "light"
     },
     "output_type": "display_data"
    }
   ],
   "source": [
    "from sklearn.decomposition import PCA, TruncatedSVD\n",
    "import matplotlib\n",
    "import matplotlib.pyplot as plt\n",
    "import matplotlib.patches as mpatches\n",
    "\n",
    "\n",
    "def plot_LSA(test_data, test_labels, plot=True):\n",
    "        lsa = TruncatedSVD(n_components=2)\n",
    "        lsa.fit(test_data)\n",
    "        lsa_scores = lsa.transform(test_data)\n",
    "        colors = ['red','green']\n",
    "        plt.scatter(lsa_scores[:,0], lsa_scores[:,1], s=10, alpha=.5, c=test_labels, cmap=matplotlib.colors.ListedColormap(colors))\n",
    "            \n",
    "fig = plt.figure(figsize=(6, 6))          \n",
    "plot_LSA(x_train_BoW, y_train)\n",
    "plt.show()"
   ]
  },
  {
   "cell_type": "code",
   "execution_count": 53,
   "metadata": {},
   "outputs": [
    {
     "name": "stdout",
     "output_type": "stream",
     "text": [
      "accuracy: 0.4716981132075472\n",
      "accuracy: 0.41509433962264153\n",
      "accuracy: 0.45714285714285713\n",
      "accuracy: 0.3142857142857143\n",
      "accuracy: 0.37142857142857144\n",
      "avg accuracy: 0.4059299191374663\n"
     ]
    }
   ],
   "source": [
    "from sklearn.model_selection import KFold\n",
    "\n",
    "kf = KFold(n_splits=5,shuffle=True)\n",
    "modeltext = np.asarray(modeltext)\n",
    "\n",
    "labels=np.asarray(labels)\n",
    "accuracies = []\n",
    "for train_index, test_index in kf.split(modeltext):\n",
    "    \n",
    "    kx_train = modeltext[train_index]\n",
    "    ky_train = labels[train_index]\n",
    "    \n",
    "    kx_test    = modeltext[test_index]\n",
    "    ky_test  = labels[test_index]\n",
    "    \n",
    "    #k_vect=CountVectorizer()\n",
    "    k_vect= TfidfVectorizer()\n",
    "    k_x_train_BoW = k_vect.fit_transform(kx_train)\n",
    "    k_x_test_BoW = k_vect.transform(kx_test)\n",
    "    \n",
    "    \n",
    "    clf = LogisticRegression(C=15.0, solver='newton-cg',multi_class='multinomial')\n",
    "    #clf = MultinomialNB()\n",
    "    clf.fit(k_x_train_BoW, ky_train)\n",
    "    preds = clf.predict(k_x_test_BoW)\n",
    "    \n",
    "\n",
    "    \n",
    "\n",
    "\n",
    "     \n",
    "    accuracy = accuracy_score(ky_test,preds)\n",
    "    print('accuracy:', accuracy)\n",
    "    accuracies.append(accuracy)\n",
    "\n",
    "\n",
    "average_accuracy = np.mean(accuracies)\n",
    "print('avg accuracy:', average_accuracy)\n"
   ]
  },
  {
   "cell_type": "code",
   "execution_count": null,
   "metadata": {},
   "outputs": [],
   "source": []
  },
  {
   "cell_type": "code",
   "execution_count": null,
   "metadata": {},
   "outputs": [],
   "source": []
  },
  {
   "cell_type": "code",
   "execution_count": null,
   "metadata": {},
   "outputs": [],
   "source": []
  },
  {
   "cell_type": "code",
   "execution_count": null,
   "metadata": {},
   "outputs": [],
   "source": []
  },
  {
   "cell_type": "code",
   "execution_count": null,
   "metadata": {},
   "outputs": [],
   "source": []
  },
  {
   "cell_type": "code",
   "execution_count": null,
   "metadata": {},
   "outputs": [],
   "source": []
  },
  {
   "cell_type": "code",
   "execution_count": null,
   "metadata": {},
   "outputs": [],
   "source": []
  }
 ],
 "metadata": {
  "kernelspec": {
   "display_name": "Python 3",
   "language": "python",
   "name": "python3"
  },
  "language_info": {
   "codemirror_mode": {
    "name": "ipython",
    "version": 3
   },
   "file_extension": ".py",
   "mimetype": "text/x-python",
   "name": "python",
   "nbconvert_exporter": "python",
   "pygments_lexer": "ipython3",
   "version": "3.7.5"
  }
 },
 "nbformat": 4,
 "nbformat_minor": 2
}
